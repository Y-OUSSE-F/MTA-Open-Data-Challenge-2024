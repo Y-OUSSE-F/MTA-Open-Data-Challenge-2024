{
 "cells": [
  {
   "cell_type": "code",
   "execution_count": 5,
   "id": "49e06a0d",
   "metadata": {},
   "outputs": [],
   "source": [
    "import pandas as pd\n",
    "import matplotlib.pyplot as plt\n",
    "plt.style.use('fivethirtyeight')"
   ]
  },
  {
   "cell_type": "code",
   "execution_count": null,
   "id": "d205e4db",
   "metadata": {},
   "outputs": [],
   "source": [
    "# API endpoint if preferred to run this notebook!\n",
    "# url = \"https://data.ny.gov/resource/wujg-7c2s.csv?$query=SELECT%0A%20%20%60station_complex%60%2C%0A%20%20%60transit_timestamp%60%2C%0A%20%20%60borough%60%2C%0A%20%20sum(%60ridership%60)%20AS%20%60sum_ridership%60%0AWHERE%0A%20%20caseless_one_of(%60transit_mode%60%2C%20%22subway%22)%0A%20%20AND%20(%60transit_timestamp%60%0A%20%20%20%20%20%20%20%20%20BETWEEN%20%222024-01-01T00%3A00%3A00%22%20%3A%3A%20floating_timestamp%0A%20%20%20%20%20%20%20%20%20AND%20%222024-10-19T00%3A00%3A00%22%20%3A%3A%20floating_timestamp)%0AGROUP%20BY%20%60station_complex%60%2C%20%60transit_timestamp%60%2C%20%60borough%60\"\n",
    "\n",
    "#response = requests.get(url)\n",
    "#data = response.content.decode('utf-8')\n",
    "#data2024 = pd.read_csv(pd.compat.StringIO(data))"
   ]
  },
  {
   "cell_type": "code",
   "execution_count": 9,
   "id": "3602e6a0",
   "metadata": {},
   "outputs": [],
   "source": [
    "# Read into machine\n",
    "data2024 = pd.read_csv('MTA_data_challenge.csv')\n",
    "data2024['transit_timestamp'] = pd.to_datetime(data2024['transit_timestamp'])"
   ]
  },
  {
   "cell_type": "code",
   "execution_count": 11,
   "id": "71064ffe",
   "metadata": {},
   "outputs": [
    {
     "data": {
      "text/html": [
       "<div>\n",
       "<style scoped>\n",
       "    .dataframe tbody tr th:only-of-type {\n",
       "        vertical-align: middle;\n",
       "    }\n",
       "\n",
       "    .dataframe tbody tr th {\n",
       "        vertical-align: top;\n",
       "    }\n",
       "\n",
       "    .dataframe thead th {\n",
       "        text-align: right;\n",
       "    }\n",
       "</style>\n",
       "<table border=\"1\" class=\"dataframe\">\n",
       "  <thead>\n",
       "    <tr style=\"text-align: right;\">\n",
       "      <th></th>\n",
       "      <th>station_complex</th>\n",
       "      <th>transit_timestamp</th>\n",
       "      <th>borough</th>\n",
       "      <th>ridership</th>\n",
       "    </tr>\n",
       "  </thead>\n",
       "  <tbody>\n",
       "    <tr>\n",
       "      <th>0</th>\n",
       "      <td>21 St-Queensbridge (F)</td>\n",
       "      <td>2024-02-03 06:00:00</td>\n",
       "      <td>Queens</td>\n",
       "      <td>27</td>\n",
       "    </tr>\n",
       "    <tr>\n",
       "      <th>1</th>\n",
       "      <td>14 St (F,M,1,2,3)/6 Av (L)</td>\n",
       "      <td>2024-01-25 01:00:00</td>\n",
       "      <td>Manhattan</td>\n",
       "      <td>95</td>\n",
       "    </tr>\n",
       "    <tr>\n",
       "      <th>2</th>\n",
       "      <td>Avenue U (N)</td>\n",
       "      <td>2024-01-17 19:00:00</td>\n",
       "      <td>Brooklyn</td>\n",
       "      <td>57</td>\n",
       "    </tr>\n",
       "    <tr>\n",
       "      <th>3</th>\n",
       "      <td>Jay St-MetroTech (A,C,F,R)</td>\n",
       "      <td>2024-01-26 19:00:00</td>\n",
       "      <td>Brooklyn</td>\n",
       "      <td>1302</td>\n",
       "    </tr>\n",
       "    <tr>\n",
       "      <th>4</th>\n",
       "      <td>Northern Blvd (M,R)</td>\n",
       "      <td>2024-01-29 18:00:00</td>\n",
       "      <td>Queens</td>\n",
       "      <td>212</td>\n",
       "    </tr>\n",
       "  </tbody>\n",
       "</table>\n",
       "</div>"
      ],
      "text/plain": [
       "              station_complex   transit_timestamp    borough  ridership\n",
       "0      21 St-Queensbridge (F) 2024-02-03 06:00:00     Queens         27\n",
       "1  14 St (F,M,1,2,3)/6 Av (L) 2024-01-25 01:00:00  Manhattan         95\n",
       "2                Avenue U (N) 2024-01-17 19:00:00   Brooklyn         57\n",
       "3  Jay St-MetroTech (A,C,F,R) 2024-01-26 19:00:00   Brooklyn       1302\n",
       "4         Northern Blvd (M,R) 2024-01-29 18:00:00     Queens        212"
      ]
     },
     "execution_count": 11,
     "metadata": {},
     "output_type": "execute_result"
    }
   ],
   "source": [
    "data2024.head()"
   ]
  },
  {
   "cell_type": "code",
   "execution_count": 17,
   "id": "c5990b7a",
   "metadata": {},
   "outputs": [
    {
     "name": "stdout",
     "output_type": "stream",
     "text": [
      "station_complex\n",
      "Times Sq-42 St (N,Q,R,W,S,1,2,3,7)/42 St (A,C,E)    33157466\n",
      "Grand Central-42 St (S,4,5,6,7)                     24594316\n",
      "34 St-Herald Sq (B,D,F,M,N,Q,R,W)                   17942992\n",
      "14 St-Union Sq (L,N,Q,R,W,4,5,6)                    16424698\n",
      "Fulton St (A,C,J,Z,2,3,4,5)                         13998124\n",
      "Name: ridership, dtype: int64\n"
     ]
    }
   ],
   "source": [
    "# Grouping by station and summing total ridership\n",
    "busiest_stations = data2024.groupby('station_complex')['ridership'].sum().nlargest(5)\n",
    "print(busiest_stations)"
   ]
  },
  {
   "cell_type": "code",
   "execution_count": 18,
   "id": "a34a3ce7",
   "metadata": {},
   "outputs": [
    {
     "name": "stdout",
     "output_type": "stream",
     "text": [
      "                                                  ridership\n",
      "station_complex                                            \n",
      "Times Sq-42 St (N,Q,R,W,S,1,2,3,7)/42 St (A,C,E)     5053.0\n",
      "Grand Central-42 St (S,4,5,6,7)                      3118.0\n",
      "34 St-Herald Sq (B,D,F,M,N,Q,R,W)                    2604.0\n",
      "14 St-Union Sq (L,N,Q,R,W,4,5,6)                     2167.0\n",
      "34 St-Penn Station (A,C,E)                           2056.0\n"
     ]
    }
   ],
   "source": [
    "data2024['hour'] = data2024['transit_timestamp'].dt.hour\n",
    "\n",
    "# Grouping by station and hour, and calculating the average ridership\n",
    "average_hourly_ridership = data2024.groupby('station_complex').agg({'ridership': 'median'}).nlargest(5, 'ridership')\n",
    "print(average_hourly_ridership)"
   ]
  },
  {
   "cell_type": "code",
   "execution_count": 19,
   "id": "3a84259e",
   "metadata": {},
   "outputs": [
    {
     "name": "stdout",
     "output_type": "stream",
     "text": [
      "       hour                                    station_complex  ridership\n",
      "399       0   Times Sq-42 St (N,Q,R,W,S,1,2,3,7)/42 St (A,C,E)     1832.0\n",
      "823       1   Times Sq-42 St (N,Q,R,W,S,1,2,3,7)/42 St (A,C,E)      673.5\n",
      "1247      2   Times Sq-42 St (N,Q,R,W,S,1,2,3,7)/42 St (A,C,E)      318.0\n",
      "1671      3   Times Sq-42 St (N,Q,R,W,S,1,2,3,7)/42 St (A,C,E)      207.0\n",
      "1822      4  74-Broadway (7)/Jackson Hts-Roosevelt Av (E,F,...      449.0\n",
      "2519      5   Times Sq-42 St (N,Q,R,W,S,1,2,3,7)/42 St (A,C,E)     2374.5\n",
      "2943      6   Times Sq-42 St (N,Q,R,W,S,1,2,3,7)/42 St (A,C,E)     5597.0\n",
      "3367      7   Times Sq-42 St (N,Q,R,W,S,1,2,3,7)/42 St (A,C,E)     8414.0\n",
      "3791      8   Times Sq-42 St (N,Q,R,W,S,1,2,3,7)/42 St (A,C,E)    10631.5\n",
      "4215      9   Times Sq-42 St (N,Q,R,W,S,1,2,3,7)/42 St (A,C,E)     7429.0\n",
      "4639     10   Times Sq-42 St (N,Q,R,W,S,1,2,3,7)/42 St (A,C,E)     5280.5\n",
      "5063     11   Times Sq-42 St (N,Q,R,W,S,1,2,3,7)/42 St (A,C,E)     4715.0\n",
      "5487     12   Times Sq-42 St (N,Q,R,W,S,1,2,3,7)/42 St (A,C,E)     4668.0\n",
      "5911     13   Times Sq-42 St (N,Q,R,W,S,1,2,3,7)/42 St (A,C,E)     4969.0\n",
      "6335     14   Times Sq-42 St (N,Q,R,W,S,1,2,3,7)/42 St (A,C,E)     5776.0\n",
      "6759     15   Times Sq-42 St (N,Q,R,W,S,1,2,3,7)/42 St (A,C,E)     6879.5\n",
      "7183     16   Times Sq-42 St (N,Q,R,W,S,1,2,3,7)/42 St (A,C,E)     8840.0\n",
      "7490     17                    Grand Central-42 St (S,4,5,6,7)    14446.5\n",
      "7914     18                    Grand Central-42 St (S,4,5,6,7)    10572.5\n",
      "8455     19   Times Sq-42 St (N,Q,R,W,S,1,2,3,7)/42 St (A,C,E)     6415.5\n",
      "8879     20   Times Sq-42 St (N,Q,R,W,S,1,2,3,7)/42 St (A,C,E)     5605.0\n",
      "9303     21   Times Sq-42 St (N,Q,R,W,S,1,2,3,7)/42 St (A,C,E)     6282.5\n",
      "9727     22   Times Sq-42 St (N,Q,R,W,S,1,2,3,7)/42 St (A,C,E)     6155.0\n",
      "10151    23   Times Sq-42 St (N,Q,R,W,S,1,2,3,7)/42 St (A,C,E)     3231.5\n"
     ]
    }
   ],
   "source": [
    "# Group by hour and station, then calculate average ridership\n",
    "average_ridership = data2024.groupby(['hour', 'station_complex'])['ridership'].median().reset_index()\n",
    "max_ridership_per_hour = average_ridership.loc[average_ridership.groupby('hour')['ridership'].idxmax()]\n",
    "\n",
    "# Display the result\n",
    "print(max_ridership_per_hour)"
   ]
  }
 ],
 "metadata": {
  "kernelspec": {
   "display_name": "Python 3 (ipykernel)",
   "language": "python",
   "name": "python3"
  },
  "language_info": {
   "codemirror_mode": {
    "name": "ipython",
    "version": 3
   },
   "file_extension": ".py",
   "mimetype": "text/x-python",
   "name": "python",
   "nbconvert_exporter": "python",
   "pygments_lexer": "ipython3",
   "version": "3.11.4"
  }
 },
 "nbformat": 4,
 "nbformat_minor": 5
}
